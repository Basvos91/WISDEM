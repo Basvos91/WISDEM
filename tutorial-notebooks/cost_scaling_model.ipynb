{
 "cells": [
  {
   "cell_type": "markdown",
   "metadata": {},
   "source": [
    "# Cost and scaling model"
   ]
  },
  {
   "cell_type": "code",
   "execution_count": 4,
   "metadata": {},
   "outputs": [],
   "source": [
    "from wisdem.turbine_costsse.nrel_csm_tcc_2015 import nrel_csm_mass_2015, nrel_csm_2015\n",
    "from openmdao.api import Problem\n",
    "import numpy as np"
   ]
  },
  {
   "cell_type": "markdown",
   "metadata": {},
   "source": [
    "## Mass model\n",
    "\n",
    "The goal of this model is too model the mass given a set of parameters about the turbine.\n",
    "\n",
    "The key to accomplishing this is the `nrel_csm_mass_2015` class.\n",
    "\n",
    "Here, we will do a model based on this class.\n",
    "\n",
    "First, we instantiate the `nrel_csm_mass_2015` class. Then we make an OpenMDAO `Problem` that uses this class. Then we set the inputs for our model."
   ]
  },
  {
   "cell_type": "code",
   "execution_count": 5,
   "metadata": {},
   "outputs": [],
   "source": [
    "turbine = nrel_csm_mass_2015()\n",
    "prob = Problem(turbine)\n",
    "prob.setup()\n",
    "\n",
    "prob['rotor_diameter'] = 126.0\n",
    "prob['turbine_class'] = 1\n",
    "prob['blade_has_carbon'] = False\n",
    "prob['blade_number'] = 3    \n",
    "prob['machine_rating'] = 5000.0\n",
    "prob['hub_height'] = 90.0\n",
    "prob['bearing_number'] = 2\n",
    "prob['crane'] = True"
   ]
  },
  {
   "cell_type": "markdown",
   "metadata": {},
   "source": [
    "Some of the inputs require a bit more calculation before we input them into the model, such as the rotor force inputs. Here's an example where we use max tip speed, machine rating, max efficiency, and rotor speed to set the rotor torque."
   ]
  },
  {
   "cell_type": "code",
   "execution_count": 6,
   "metadata": {},
   "outputs": [],
   "source": [
    "# Rotor force calculations for nacelle inputs\n",
    "maxTipSpd = 80.0\n",
    "maxEfficiency = 0.90\n",
    "\n",
    "ratedHubPower  = prob['machine_rating']*1000. / maxEfficiency \n",
    "rotorSpeed     = (maxTipSpd/(0.5*prob['rotor_diameter'])) * (60.0 / (2*np.pi))\n",
    "prob['rotor_torque'] = ratedHubPower/(rotorSpeed*(np.pi/30))"
   ]
  },
  {
   "cell_type": "markdown",
   "metadata": {},
   "source": [
    "Now we are set to run the model:"
   ]
  },
  {
   "cell_type": "code",
   "execution_count": 12,
   "metadata": {},
   "outputs": [
    {
     "name": "stdout",
     "output_type": "stream",
     "text": [
      "The results for the NREL 5 MW Reference Turbine in an offshore 20 m water depth location are:\n",
      "sharedIndeps.machine_rating [5000.]\n",
      "sharedIndeps.rotor_diameter [126.]\n",
      "blade.blade_mass [18590.66820649]\n",
      "hub.hub_mass [44078.53687493]\n",
      "pitch.pitch_system_mass [10798.90594644]\n",
      "spinner.spinner_mass [973.]\n",
      "lss.lss_mass [22820.27928238]\n",
      "bearing.main_bearing_mass [2245.41649102]\n",
      "gearbox.gearbox_mass [43468.32086769]\n",
      "hss.hss_mass [994.7]\n",
      "generator.generator_mass [14900.]\n",
      "bedplate.bedplate_mass [41765.26095285]\n",
      "yaw.yaw_mass [12329.96247921]\n",
      "hvac.hvac_mass [400.]\n",
      "cover.cover_mass [6836.69]\n",
      "other.other_mass [8220.65761911]\n",
      "transformer.transformer_mass [11485.]\n",
      "tower.tower_mass [182336.48057717]\n",
      "turbine.hub_system_mass [55850.44282136]\n",
      "turbine.rotor_mass [111622.44744083]\n",
      "turbine.nacelle_mass [167711.70418327]\n",
      "turbine.turbine_mass [461670.63220128]\n"
     ]
    }
   ],
   "source": [
    "prob.run_model()\n",
    "   \n",
    "print(\"The results for the NREL 5 MW Reference Turbine in an offshore 20 m water depth location are:\")\n",
    "for io in turbine._outputs:\n",
    "    print(io, str(turbine._outputs[io]))"
   ]
  },
  {
   "cell_type": "code",
   "execution_count": null,
   "metadata": {},
   "outputs": [],
   "source": []
  }
 ],
 "metadata": {
  "kernelspec": {
   "display_name": "Python 3",
   "language": "python",
   "name": "python3"
  },
  "language_info": {
   "codemirror_mode": {
    "name": "ipython",
    "version": 3
   },
   "file_extension": ".py",
   "mimetype": "text/x-python",
   "name": "python",
   "nbconvert_exporter": "python",
   "pygments_lexer": "ipython3",
   "version": "3.7.3"
  }
 },
 "nbformat": 4,
 "nbformat_minor": 4
}
