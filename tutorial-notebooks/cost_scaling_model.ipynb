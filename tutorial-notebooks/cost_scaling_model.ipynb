{
 "cells": [
  {
   "cell_type": "markdown",
   "metadata": {},
   "source": [
    "# Cost and scaling model"
   ]
  },
  {
   "cell_type": "code",
   "execution_count": 4,
   "metadata": {},
   "outputs": [],
   "source": [
    "from wisdem.turbine_costsse.nrel_csm_tcc_2015 import nrel_csm_mass_2015, nrel_csm_2015\n",
    "from openmdao.api import Problem\n",
    "import numpy as np"
   ]
  },
  {
   "cell_type": "markdown",
   "metadata": {},
   "source": [
    "## Mass model\n",
    "\n",
    "The goal of this model is too model the mass given a set of parameters about the turbine.\n",
    "\n",
    "The key to accomplishing this is the `nrel_csm_mass_2015` class.\n",
    "\n",
    "Here, we will do a model based on this class.\n",
    "\n",
    "First, we instantiate the `nrel_csm_mass_2015` class. Then we make an OpenMDAO `Problem` that uses this class. Then we set the inputs for our model."
   ]
  },
  {
   "cell_type": "code",
   "execution_count": 5,
   "metadata": {},
   "outputs": [],
   "source": [
    "turbine = nrel_csm_mass_2015()\n",
    "prob = Problem(turbine)\n",
    "prob.setup()\n",
    "\n",
    "prob['rotor_diameter'] = 126.0\n",
    "prob['turbine_class'] = 1\n",
    "prob['blade_has_carbon'] = False\n",
    "prob['blade_number'] = 3    \n",
    "prob['machine_rating'] = 5000.0\n",
    "prob['hub_height'] = 90.0\n",
    "prob['bearing_number'] = 2\n",
    "prob['crane'] = True"
   ]
  },
  {
   "cell_type": "markdown",
   "metadata": {},
   "source": [
    "Some of the inputs require a bit more calculation before we input them into the model, such as the rotor force inputs. Here's an example where we use max tip speed, machine rating, max efficiency, and rotor speed to set the rotor torque."
   ]
  },
  {
   "cell_type": "code",
   "execution_count": 6,
   "metadata": {},
   "outputs": [],
   "source": [
    "# Rotor force calculations for nacelle inputs\n",
    "maxTipSpd = 80.0\n",
    "maxEfficiency = 0.90\n",
    "\n",
    "ratedHubPower  = prob['machine_rating']*1000. / maxEfficiency \n",
    "rotorSpeed     = (maxTipSpd/(0.5*prob['rotor_diameter'])) * (60.0 / (2*np.pi))\n",
    "prob['rotor_torque'] = ratedHubPower/(rotorSpeed*(np.pi/30))"
   ]
  },
  {
   "cell_type": "markdown",
   "metadata": {},
   "source": [
    "Now we are set to run the model:"
   ]
  },
  {
   "cell_type": "code",
   "execution_count": 12,
   "metadata": {},
   "outputs": [
    {
     "name": "stdout",
     "output_type": "stream",
     "text": [
      "The results for the NREL 5 MW Reference Turbine in an offshore 20 m water depth location are:\n",
      "sharedIndeps.machine_rating [5000.]\n",
      "sharedIndeps.rotor_diameter [126.]\n",
      "blade.blade_mass [18590.66820649]\n",
      "hub.hub_mass [44078.53687493]\n",
      "pitch.pitch_system_mass [10798.90594644]\n",
      "spinner.spinner_mass [973.]\n",
      "lss.lss_mass [22820.27928238]\n",
      "bearing.main_bearing_mass [2245.41649102]\n",
      "gearbox.gearbox_mass [43468.32086769]\n",
      "hss.hss_mass [994.7]\n",
      "generator.generator_mass [14900.]\n",
      "bedplate.bedplate_mass [41765.26095285]\n",
      "yaw.yaw_mass [12329.96247921]\n",
      "hvac.hvac_mass [400.]\n",
      "cover.cover_mass [6836.69]\n",
      "other.other_mass [8220.65761911]\n",
      "transformer.transformer_mass [11485.]\n",
      "tower.tower_mass [182336.48057717]\n",
      "turbine.hub_system_mass [55850.44282136]\n",
      "turbine.rotor_mass [111622.44744083]\n",
      "turbine.nacelle_mass [167711.70418327]\n",
      "turbine.turbine_mass [461670.63220128]\n"
     ]
    }
   ],
   "source": [
    "prob.run_model()\n",
    "   \n",
    "print(\"The results for the NREL 5 MW Reference Turbine in an offshore 20 m water depth location are:\")\n",
    "for io in turbine._outputs:\n",
    "    print(io, str(turbine._outputs[io]))"
   ]
  },
  {
   "cell_type": "markdown",
   "metadata": {},
   "source": [
    "# Cost model\n",
    "\n",
    "Now that we know the mass, how much could our turbine system cost? Using the `nrel_csm_2015` with our OpenMDAO `Problem`, we can model the cost. We set up our model inputs in a similar way that we did before:"
   ]
  },
  {
   "cell_type": "code",
   "execution_count": 13,
   "metadata": {},
   "outputs": [
    {
     "name": "stdout",
     "output_type": "stream",
     "text": [
      "The results for the NREL 5 MW Reference Turbine in an offshore 20 m water depth location are:\n",
      "nrel_csm_mass.sharedIndeps.machine_rating [5000.]\n",
      "nrel_csm_mass.sharedIndeps.rotor_diameter [126.]\n",
      "nrel_csm_mass.blade.blade_mass [18590.66820649]\n",
      "nrel_csm_mass.hub.hub_mass [44078.53687493]\n",
      "nrel_csm_mass.pitch.pitch_system_mass [10798.90594644]\n",
      "nrel_csm_mass.spinner.spinner_mass [973.]\n",
      "nrel_csm_mass.lss.lss_mass [22820.27928238]\n",
      "nrel_csm_mass.bearing.main_bearing_mass [2245.41649102]\n",
      "nrel_csm_mass.gearbox.gearbox_mass [43468.32086769]\n",
      "nrel_csm_mass.hss.hss_mass [994.7]\n",
      "nrel_csm_mass.generator.generator_mass [14900.]\n",
      "nrel_csm_mass.bedplate.bedplate_mass [41765.26095285]\n",
      "nrel_csm_mass.yaw.yaw_mass [12329.96247921]\n",
      "nrel_csm_mass.hvac.hvac_mass [400.]\n",
      "nrel_csm_mass.cover.cover_mass [6836.69]\n",
      "nrel_csm_mass.other.other_mass [8220.65761911]\n",
      "nrel_csm_mass.transformer.transformer_mass [11485.]\n",
      "nrel_csm_mass.tower.tower_mass [182336.48057717]\n",
      "nrel_csm_mass.turbine.hub_system_mass [55850.44282136]\n",
      "nrel_csm_mass.turbine.rotor_mass [111622.44744083]\n",
      "nrel_csm_mass.turbine.nacelle_mass [167711.70418327]\n",
      "nrel_csm_mass.turbine.turbine_mass [461670.63220128]\n",
      "turbine_costs.indeps.blade_mass_cost_coeff [14.6]\n",
      "turbine_costs.indeps.hub_mass_cost_coeff [3.9]\n",
      "turbine_costs.indeps.pitch_system_mass_cost_coeff [22.1]\n",
      "turbine_costs.indeps.spinner_mass_cost_coeff [11.1]\n",
      "turbine_costs.indeps.lss_mass_cost_coeff [11.9]\n",
      "turbine_costs.indeps.bearings_mass_cost_coeff [4.5]\n",
      "turbine_costs.indeps.gearbox_mass_cost_coeff [12.9]\n",
      "turbine_costs.indeps.hss_mass_cost_coeff [6.8]\n",
      "turbine_costs.indeps.generator_mass_cost_coeff [12.4]\n",
      "turbine_costs.indeps.bedplate_mass_cost_coeff [2.9]\n",
      "turbine_costs.indeps.yaw_mass_cost_coeff [8.3]\n",
      "turbine_costs.indeps.vs_electronics_mass_cost_coeff [18.8]\n",
      "turbine_costs.indeps.hvac_mass_cost_coeff [124.]\n",
      "turbine_costs.indeps.cover_mass_cost_coeff [5.7]\n",
      "turbine_costs.indeps.elec_connec_machine_rating_cost_coeff [41.85]\n",
      "turbine_costs.indeps.platforms_mass_cost_coeff [17.1]\n",
      "turbine_costs.indeps.base_hardware_cost_coeff [0.7]\n",
      "turbine_costs.indeps.transformer_mass_cost_coeff [18.8]\n",
      "turbine_costs.indeps.tower_mass_cost_coeff [2.9]\n",
      "turbine_costs.indeps.controls_machine_rating_cost_coeff [21.15]\n",
      "turbine_costs.indeps.crane_cost [12000.]\n",
      "turbine_costs.indeps.hub_assemblyCostMultiplier [0.]\n",
      "turbine_costs.indeps.hub_overheadCostMultiplier [0.]\n",
      "turbine_costs.indeps.nacelle_assemblyCostMultiplier [0.]\n",
      "turbine_costs.indeps.nacelle_overheadCostMultiplier [0.]\n",
      "turbine_costs.indeps.tower_assemblyCostMultiplier [0.]\n",
      "turbine_costs.indeps.tower_overheadCostMultiplier [0.]\n",
      "turbine_costs.indeps.turbine_assemblyCostMultiplier [0.]\n",
      "turbine_costs.indeps.turbine_overheadCostMultiplier [0.]\n",
      "turbine_costs.indeps.hub_profitMultiplier [0.]\n",
      "turbine_costs.indeps.nacelle_profitMultiplier [0.]\n",
      "turbine_costs.indeps.tower_profitMultiplier [0.]\n",
      "turbine_costs.indeps.turbine_profitMultiplier [0.]\n",
      "turbine_costs.indeps.hub_transportMultiplier [0.]\n",
      "turbine_costs.indeps.nacelle_transportMultiplier [0.]\n",
      "turbine_costs.indeps.tower_transportMultiplier [0.]\n",
      "turbine_costs.indeps.turbine_transportMultiplier [0.]\n",
      "turbine_costs.blade_c.blade_cost [271423.75581475]\n",
      "turbine_costs.hub_c.hub_cost [171906.29381221]\n",
      "turbine_costs.pitch_c.pitch_system_cost [238655.82141628]\n",
      "turbine_costs.spinner_c.spinner_cost [10800.3]\n",
      "turbine_costs.hub_adder.hub_system_mass_tcc [55850.44282136]\n",
      "turbine_costs.hub_adder.hub_system_cost [421362.41522849]\n",
      "turbine_costs.rotor_adder.rotor_cost [1235633.68267274]\n",
      "turbine_costs.rotor_adder.rotor_mass_tcc [111622.44744083]\n",
      "turbine_costs.lss_c.lss_cost [271561.32346034]\n",
      "turbine_costs.bearing_c.main_bearing_cost [20208.74841916]\n",
      "turbine_costs.gearbox_c.gearbox_cost [560741.33919321]\n",
      "turbine_costs.hss_c.hss_cost [6763.96]\n",
      "turbine_costs.generator_c.generator_cost [184760.]\n",
      "turbine_costs.bedplate_c.bedplate_cost [121119.25676326]\n",
      "turbine_costs.yaw_c.yaw_system_cost [102338.68857747]\n",
      "turbine_costs.hvac_c.hvac_cost [49600.]\n",
      "turbine_costs.controls_c.controls_cost [105750.]\n",
      "turbine_costs.vs_c.vs_cost [0.]\n",
      "turbine_costs.elec_c.elec_cost [209250.]\n",
      "turbine_costs.cover_c.cover_cost [38969.133]\n",
      "turbine_costs.other_c.other_cost [-39300.]\n",
      "turbine_costs.transformer_c.transformer_cost [215918.]\n",
      "turbine_costs.nacelle_adder.nacelle_cost [1867889.19783259]\n",
      "turbine_costs.nacelle_adder.nacelle_mass_tcc [159491.04656417]\n",
      "turbine_costs.tower_c.tower_parts_cost [528775.7936738]\n",
      "turbine_costs.tower_adder.tower_cost [528775.7936738]\n",
      "turbine_costs.turbine_c.turbine_mass_tcc [453449.97458217]\n",
      "turbine_costs.turbine_c.turbine_cost [3632298.67417913]\n",
      "turbine_costs.turbine_c.turbine_cost_kW [726.45973484]\n"
     ]
    }
   ],
   "source": [
    "# simple test of module\n",
    "turbine = nrel_csm_2015()\n",
    "prob = Problem(turbine)\n",
    "prob.setup()\n",
    "\n",
    "# simple test of module\n",
    "prob['rotor_diameter'] = 126.0\n",
    "prob['turbine_class'] = 1\n",
    "prob['blade_has_carbon'] = False\n",
    "prob['blade_number'] = 3    \n",
    "prob['machine_rating'] = 5000.0\n",
    "prob['hub_height'] = 90.0\n",
    "prob['bearing_number'] = 2\n",
    "prob['crane'] = True\n",
    "\n",
    "# Rotor force calculations for nacelle inputs\n",
    "maxTipSpd = 80.0\n",
    "maxEfficiency = 0.90\n",
    "\n",
    "ratedHubPower  = prob['machine_rating']*1000. / maxEfficiency \n",
    "rotorSpeed     = (maxTipSpd/(0.5*prob['rotor_diameter'])) * (60.0 / (2*np.pi))\n",
    "prob['rotor_torque'] = ratedHubPower/(rotorSpeed*(np.pi/30))\n",
    "\n",
    "prob.run_model()\n",
    "\n",
    "print(\"The results for the NREL 5 MW Reference Turbine in an offshore 20 m water depth location are:\")\n",
    "for io in turbine._outputs:\n",
    "    print(io, str(turbine._outputs[io]))"
   ]
  },
  {
   "cell_type": "code",
   "execution_count": null,
   "metadata": {},
   "outputs": [],
   "source": []
  }
 ],
 "metadata": {
  "kernelspec": {
   "display_name": "Python 3",
   "language": "python",
   "name": "python3"
  },
  "language_info": {
   "codemirror_mode": {
    "name": "ipython",
    "version": 3
   },
   "file_extension": ".py",
   "mimetype": "text/x-python",
   "name": "python",
   "nbconvert_exporter": "python",
   "pygments_lexer": "ipython3",
   "version": "3.7.3"
  }
 },
 "nbformat": 4,
 "nbformat_minor": 4
}
