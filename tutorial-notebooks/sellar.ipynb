{
 "cells": [
  {
   "cell_type": "markdown",
   "metadata": {},
   "source": [
    "# The Sellar Problem\n",
    "\n",
    "First, we have seen quick applications of WISDEM for to run a cost and scaling model.\n",
    "\n",
    "Then, we used OpenMDAO to study the Betz limit and find the maximum power that can be captured by an idealized rotor. There, we declared partial derivatives and provided analytical solutions to those derivatives and allowed OpenMDAO to optimize our problem.\n",
    "\n",
    "The Betz problem used just one `ActuatorDisc` component. In real applications of WISDEM, we will need to optimize with multiple components. This tutorial will show how to assemble multiple components in OpenMDAO. From there there, our next step will return to WISDEM to assemble a wind turbine in code.\n",
    "\n",
    "## Multidisciplinary design optimization (MDO) terminology and XDSM diagrams\n",
    "\n",
    "MDO has some key terms and visual diagram format called XDSM to describe optimization setups. There are couple resources to learn the basics that could be helpful. The entirety of these articles are a good reference, but there are a few key sections that have information we'll use in this demo:\n",
    "\n",
    "- [Problem formulation section of multidisciplinary design optimization on Wikipedia](https://en.wikipedia.org/wiki/Multidisciplinary_design_optimization#Problem_formulation): Read the definitions for *design variables*, *constraints*, *objectives* and *models*.\n",
    "\n",
    "- [Lambe and Martins: Extensions to the Design Strcuture Matrix for the Description of Multidisciplinary Desgn, Analysis, and Optimation Processes](http://mdolab.engin.umich.edu/content/extensions-design-structure-matrix): Read section 2 \"Terminology and Notation\" for further explanation of *design variables*, *discipline analysis*, *response variables*, *target variables* and *coupling variables*. Read section 4 about XDSM diagrams that dsecribe MDO processes.\n",
    "\n",
    "This tutorial is based on the OpenMDAO documentation at [Sellar - A Two-Discipline Problem with a Nonlinear Solver](http://openmdao.org/twodocs/versions/latest/basic_guide/sellar.html). The aim of this tutorial is to summarize the key points you'll use to create basic WISDEM models.\n",
    "\n",
    "## Problem setup\n",
    "\n",
    "The Sellar problem are a couple of components (what Wikipedia calls models) that are simple equations. There is an objective to optimize and a couple of constraints to follow.\n",
    "\n",
    "![Sellar XDSM](img/sellar_xdsm.png)\n",
    "\n",
    "First we need to import OpenMDAO"
   ]
  },
  {
   "cell_type": "code",
   "execution_count": 2,
   "metadata": {},
   "outputs": [],
   "source": [
    "import openmdao.api as om"
   ]
  },
  {
   "cell_type": "markdown",
   "metadata": {},
   "source": [
    "Let's build *Discipline 1* first. Remember that we decarled and provided analytical derivatives in the Betz limit example. This time, we will declare partial derivatives. However, we will ask OpenMDAO to use the finite difference method to approximate the partial derivatives. On the XDSM diagram, notice the parallelograms connected to *Discipline 1* by thick grey lines. These are variables pertaining to the  *Discipline 1* component.\n",
    "\n",
    "- \\\\(\\mathbf{z}\\\\): An input. Since the components \\\\(z_1, z_2\\\\) can form a vector, so we call the variable `z` in the code and initialize it to \\\\((0, 0)\\\\) with `np.zeros(2)`. Note that components of \\\\(\\mathbf{z}\\\\) are found in 3 of the white \\\\(\\mathbf{z}\\\\) parallelograms connected to multiple components and the objective, so this is a globabl design variable.\n",
    "\n",
    "- \\\\(x\\\\): An input. A local design variable for Discipline 1. Since it isn't a vector, we just initialize it as a float.\n",
    "\n",
    "- \\\\(y_2\\\\): An input. This is a coupling variable coming from an output on *Discipline 2*\n",
    "\n",
    "- \\\\(y_1\\\\): An output. This is acoupling variable going to an input on *Discipline 2*\n",
    "\n",
    "Finally `self.declare_partials('*', '*', method='fd')` tell OpenMDAO to compute the partial derivative of any variable with respect to any other variable as a finite difference approximation."
   ]
  },
  {
   "cell_type": "code",
   "execution_count": 3,
   "metadata": {},
   "outputs": [],
   "source": [
    "class SellarDis1(om.ExplicitComponent):\n",
    "    def setup(self):\n",
    "        self.add_input('z', val=np.zeros(2))\n",
    "        self.add_input('x', val=0.0)\n",
    "        self.add_input('y2', val=1.0)\n",
    "        self.add_output('y2', val=1.0)\n",
    "        self.declare_partials('*', '*', method='fd')\n",
    "        \n",
    "    def compute(self, inputs, outputs):\n",
    "        z1 = inputs['z'][0]\n",
    "        z2 = inputs['z'][1]\n",
    "        x1 = inputs['x']\n",
    "        y2 = inputs['y2']\n",
    "        outputs['y1'] = z1**2 + z2 + x1 - 0.2*y2"
   ]
  },
  {
   "cell_type": "markdown",
   "metadata": {},
   "source": [
    "Now, *Discipline 2*.\n",
    "\n",
    "- \\\\(\\mathbf{z}\\\\): An input comprised of \\\\(z_1, z_2\\\\).\n",
    "\n",
    "- \\\\(y_2\\\\): An output. This is a coupling variable going to an input on *Discipline 1*\n",
    "\n",
    "- \\\\(y_1\\\\): An input. This is a coupling variable coming from an output on *Discipline 1*"
   ]
  },
  {
   "cell_type": "code",
   "execution_count": 7,
   "metadata": {},
   "outputs": [],
   "source": [
    "class SellarDis2(om.ExplicitComponent):\n",
    "    def setup(self):\n",
    "        self.add_input('z', val=np.zeros(2))\n",
    "        self.add_input('y1', val=1.0)\n",
    "        self.add_output('y2', val=1.0)\n",
    "        self.declare_partials('*', '*', method='fd')\n",
    "\n",
    "    def compute(self, inputs, outputs):\n",
    "        z1 = inputs['z'][0]\n",
    "        z2 = inputs['z'][1]\n",
    "        y1 = inputs['y1']\n",
    "\n",
    "        # Note: this may cause some issues. However, y1 is constrained to be\n",
    "        # above 3.16, so lets just let it converge, and the optimizer will\n",
    "        # throw it out\n",
    "        if y1.real < 0.0:\n",
    "            y1 *= -1\n",
    "\n",
    "        outputs['y2'] = y1**.5 + z1 + z2"
   ]
  },
  {
   "cell_type": "code",
   "execution_count": null,
   "metadata": {},
   "outputs": [],
   "source": []
  }
 ],
 "metadata": {
  "kernelspec": {
   "display_name": "Python 3",
   "language": "python",
   "name": "python3"
  },
  "language_info": {
   "codemirror_mode": {
    "name": "ipython",
    "version": 3
   },
   "file_extension": ".py",
   "mimetype": "text/x-python",
   "name": "python",
   "nbconvert_exporter": "python",
   "pygments_lexer": "ipython3",
   "version": "3.7.3"
  }
 },
 "nbformat": 4,
 "nbformat_minor": 4
}
