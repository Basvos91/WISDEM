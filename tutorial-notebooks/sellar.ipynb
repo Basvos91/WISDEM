{
 "cells": [
  {
   "cell_type": "markdown",
   "metadata": {},
   "source": [
    "# The Sellar Problem\n",
    "\n",
    "First, we have seen quick applications of WISDEM for to run a cost and scaling model.\n",
    "\n",
    "Then, we used OpenMDAO to study the Betz limit and find the maximum power that can be captured by an idealized rotor. There, we declared partial derivatives and provided analytical solutions to those derivatives and allowed OpenMDAO to optimize our problem.\n",
    "\n",
    "The Betz problem used just one `ActuatorDisc` component. In real applications of WISDEM, we will need to optimize with multiple components. This tutorial will show how to assemble multiple components in OpenMDAO. From there there, our next step will return to WISDEM to assemble a wind turbine in code.\n",
    "\n",
    "## Multidisciplinary design optimization (MDO) terminology and XDSM diagrams\n",
    "\n",
    "MDO has some key terms and visual diagram format called XDSM to describe optimization setups. There are couple resources to learn the basics that could be helpful. The entirety of these articles are a good reference, but there are a few key sections that have information we'll use in this demo:\n",
    "\n",
    "- [Problem formulation section of multidisciplinary design optimization on Wikipedia](https://en.wikipedia.org/wiki/Multidisciplinary_design_optimization#Problem_formulation): Read the definitions for *design variables*, *constraints*, *objectives* and *models*.\n",
    "\n",
    "- [Lambe and Martins: Extensions to the Design Strcuture Matrix for the Description of Multidisciplinary Desgn, Analysis, and Optimation Processes](http://mdolab.engin.umich.edu/content/extensions-design-structure-matrix): Read section 2 \"Terminology and Notation\" for further explanation of *design variables*, *discipline analysis*, *response variables*, *target variables* and *coupling variables*. Read section 4 about XDSM diagrams that dsecribe MDO processes."
   ]
  },
  {
   "cell_type": "code",
   "execution_count": null,
   "metadata": {},
   "outputs": [],
   "source": []
  }
 ],
 "metadata": {
  "kernelspec": {
   "display_name": "Python 3",
   "language": "python",
   "name": "python3"
  },
  "language_info": {
   "codemirror_mode": {
    "name": "ipython",
    "version": 3
   },
   "file_extension": ".py",
   "mimetype": "text/x-python",
   "name": "python",
   "nbconvert_exporter": "python",
   "pygments_lexer": "ipython3",
   "version": "3.7.3"
  }
 },
 "nbformat": 4,
 "nbformat_minor": 4
}
