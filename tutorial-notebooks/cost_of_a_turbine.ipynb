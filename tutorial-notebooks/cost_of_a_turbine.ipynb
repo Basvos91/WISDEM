{
 "cells": [
  {
   "cell_type": "markdown",
   "metadata": {},
   "source": [
    "# Cost of a turbine"
   ]
  },
  {
   "cell_type": "markdown",
   "metadata": {},
   "source": [
    "First, import the WISDEM code that will model our costs. Also import the pieces of OpenMDAO that we'll need for the optimization."
   ]
  },
  {
   "cell_type": "code",
   "execution_count": 1,
   "metadata": {},
   "outputs": [],
   "source": [
    "from wisdem.turbine_costsse.turbine_costsse_2015 import Turbine_CostsSE_2015\n",
    "from openmdao.api import Problem"
   ]
  },
  {
   "cell_type": "markdown",
   "metadata": {},
   "source": [
    "Before we input the variables into our model, we need to perform the following steps:\n",
    "\n",
    "1. Create an instance of `Turbine_CostsSE_2015`. This will calculate our cost. When we instantiate it it, we set `verbosity` to `True` so we can view detailed outputs as it performs our optimization.\n",
    "\n",
    "1. OpenMDAO will be running the optimization, so we create the `Problem` named `prob` for OpenMDAO to solve. The problem is our `turbine`\n",
    "\n",
    "1. We run `prob.setup()` so that OpenMDAO will initialize our problem."
   ]
  },
  {
   "cell_type": "code",
   "execution_count": 2,
   "metadata": {},
   "outputs": [
    {
     "data": {
      "text/plain": [
       "<openmdao.core.problem.Problem at 0x11fb6e9b0>"
      ]
     },
     "execution_count": 2,
     "metadata": {},
     "output_type": "execute_result"
    }
   ],
   "source": [
    "turbine = Turbine_CostsSE_2015(verbosity=True)\n",
    "prob = Problem(turbine)\n",
    "prob.setup()"
   ]
  },
  {
   "cell_type": "markdown",
   "metadata": {},
   "source": [
    "Now we can set the independent variables for our model. Masses are in kilograms. All values are `float` data type."
   ]
  },
  {
   "cell_type": "code",
   "execution_count": 3,
   "metadata": {},
   "outputs": [],
   "source": [
    "# Masses\n",
    "prob['blade_mass'] = 17650.67\n",
    "prob['hub_mass'] = 31644.5\n",
    "prob['pitch_system_mass'] = 17004.0\n",
    "prob['spinner_mass'] = 1810.5\n",
    "prob['lss_mass'] = 31257.3\n",
    "prob['main_bearing_mass'] = 9731.41 / 2\n",
    "prob['gearbox_mass'] = 30237.60\n",
    "prob['hss_mass'] = 1492.45\n",
    "prob['generator_mass'] = 16699.85\n",
    "prob['bedplate_mass'] = 93090.6\n",
    "prob['yaw_mass'] = 11878.24\n",
    "prob['tower_mass'] = 434559.0\n",
    "prob['vs_electronics_mass'] = 1000.0\n",
    "prob['hvac_mass'] = 1000.0\n",
    "prob['cover_mass'] = 1000.0\n",
    "prob['platforms_mass'] = 1000.0\n",
    "prob['transformer_mass'] = 1000.0\n",
    "\n",
    "# Other inputs\n",
    "prob['machine_rating'] = 5000.0   # kW\n",
    "prob['blade_number'] = 3          # Number of rotor blades\n",
    "prob['crane'] = True              # Flag for presence of onboard crane\n",
    "prob['main_bearing_number'] = 2   # Number of main bearings"
   ]
  },
  {
   "cell_type": "markdown",
   "metadata": {},
   "source": [
    "Finally, we get to run our model. Because we set `verbosity` to `True` we see the input and output values of our model instantly:"
   ]
  },
  {
   "cell_type": "code",
   "execution_count": 4,
   "metadata": {},
   "outputs": [
    {
     "name": "stdout",
     "output_type": "stream",
     "text": [
      "################################################\n",
      "Computation of costs of the main turbine components from TurbineCostSE\n",
      "Blade cost              257.700 k USD       mass 17650.670 kg\n",
      "Pitch system cost       375.788 k USD       mass 17004.000 kg\n",
      "Hub cost                123.414 k USD       mass 31644.500 kg\n",
      "Spinner cost            20.097 k USD       mass 1810.500 kg\n",
      "------------------------------------------------\n",
      "Rotor cost              1292.398 k USD       mass 103411.010 kg\n",
      "\n",
      "LSS cost                371.962 k USD       mass 31257.300 kg\n",
      "Main bearing cost       43.791 k USD       mass 4865.705 kg\n",
      "Gearbox cost            390.065 k USD       mass 30237.600 kg\n",
      "HSS cost                10.149 k USD       mass 1492.450 kg\n",
      "Generator cost          207.078 k USD       mass 16699.850 kg\n",
      "Bedplate cost           269.963 k USD       mass 93090.600 kg\n",
      "Yaw system cost         98.589 k USD       mass 11878.240 kg\n",
      "HVAC cost               124.000 k USD       mass 1000.000 kg\n",
      "Nacelle cover cost      5.700 k USD       mass 1000.000 kg\n",
      "Electr connection cost  209.250 k USD\n",
      "Controls cost           105.750 k USD\n",
      "Other main frame cost   -22.200 k USD\n",
      "Transformer cost        18.800 k USD       mass 1000.000 kg\n",
      "------------------------------------------------\n",
      "Nacelle cost            1895.489 k USD       mass 197387.450 kg\n",
      "\n",
      "Tower cost              1260.221 k USD       mass 434559.000 kg\n",
      "------------------------------------------------\n",
      "------------------------------------------------\n",
      "Turbine cost            4448.107 k USD       mass 735357.460 kg\n",
      "################################################\n"
     ]
    }
   ],
   "source": [
    "prob.run_model()"
   ]
  },
  {
   "cell_type": "markdown",
   "metadata": {},
   "source": [
    "`turbine._outputs` is a dictionary like object with key-value pairs. As an example, after this model runs you can run the following statement to access the rating of the turbine in kilowatts.\n",
    "\n",
    "Note that, even though the rating is a non-vector value, the value is in a NumPy array. Of course, vectors are returned in NumPy arrays as well."
   ]
  },
  {
   "cell_type": "code",
   "execution_count": 5,
   "metadata": {},
   "outputs": [
    {
     "data": {
      "text/plain": [
       "array([5000.])"
      ]
     },
     "execution_count": 5,
     "metadata": {},
     "output_type": "execute_result"
    }
   ],
   "source": [
    "turbine._outputs['sharedIndeps.machine_rating']"
   ]
  },
  {
   "cell_type": "markdown",
   "metadata": {},
   "source": [
    "We can write a `for` loop to iterate through all the outputs."
   ]
  },
  {
   "cell_type": "code",
   "execution_count": 6,
   "metadata": {},
   "outputs": [
    {
     "name": "stdout",
     "output_type": "stream",
     "text": [
      "sharedIndeps.machine_rating [5000.]\n",
      "sharedIndeps.blade_mass [17650.67]\n",
      "sharedIndeps.hub_mass [31644.5]\n",
      "sharedIndeps.pitch_system_mass [17004.]\n",
      "sharedIndeps.spinner_mass [1810.5]\n",
      "sharedIndeps.lss_mass [31257.3]\n",
      "sharedIndeps.bearings_mass [0.]\n",
      "sharedIndeps.gearbox_mass [30237.6]\n",
      "sharedIndeps.main_bearing_mass [4865.705]\n",
      "sharedIndeps.hss_mass [1492.45]\n",
      "sharedIndeps.generator_mass [16699.85]\n",
      "sharedIndeps.bedplate_mass [93090.6]\n",
      "sharedIndeps.yaw_mass [11878.24]\n",
      "sharedIndeps.vs_electronics_mass [1000.]\n",
      "sharedIndeps.hvac_mass [1000.]\n",
      "sharedIndeps.cover_mass [1000.]\n",
      "sharedIndeps.platforms_mass [1000.]\n",
      "sharedIndeps.transformer_mass [1000.]\n",
      "sharedIndeps.tower_mass [434559.]\n",
      "indeps.blade_mass_cost_coeff [14.6]\n",
      "indeps.hub_mass_cost_coeff [3.9]\n",
      "indeps.pitch_system_mass_cost_coeff [22.1]\n",
      "indeps.spinner_mass_cost_coeff [11.1]\n",
      "indeps.lss_mass_cost_coeff [11.9]\n",
      "indeps.bearings_mass_cost_coeff [4.5]\n",
      "indeps.gearbox_mass_cost_coeff [12.9]\n",
      "indeps.hss_mass_cost_coeff [6.8]\n",
      "indeps.generator_mass_cost_coeff [12.4]\n",
      "indeps.bedplate_mass_cost_coeff [2.9]\n",
      "indeps.yaw_mass_cost_coeff [8.3]\n",
      "indeps.vs_electronics_mass_cost_coeff [18.8]\n",
      "indeps.hvac_mass_cost_coeff [124.]\n",
      "indeps.cover_mass_cost_coeff [5.7]\n",
      "indeps.elec_connec_machine_rating_cost_coeff [41.85]\n",
      "indeps.platforms_mass_cost_coeff [17.1]\n",
      "indeps.base_hardware_cost_coeff [0.7]\n",
      "indeps.transformer_mass_cost_coeff [18.8]\n",
      "indeps.tower_mass_cost_coeff [2.9]\n",
      "indeps.controls_machine_rating_cost_coeff [21.15]\n",
      "indeps.crane_cost [12000.]\n",
      "indeps.hub_assemblyCostMultiplier [0.]\n",
      "indeps.hub_overheadCostMultiplier [0.]\n",
      "indeps.nacelle_assemblyCostMultiplier [0.]\n",
      "indeps.nacelle_overheadCostMultiplier [0.]\n",
      "indeps.tower_assemblyCostMultiplier [0.]\n",
      "indeps.tower_overheadCostMultiplier [0.]\n",
      "indeps.turbine_assemblyCostMultiplier [0.]\n",
      "indeps.turbine_overheadCostMultiplier [0.]\n",
      "indeps.hub_profitMultiplier [0.]\n",
      "indeps.nacelle_profitMultiplier [0.]\n",
      "indeps.tower_profitMultiplier [0.]\n",
      "indeps.turbine_profitMultiplier [0.]\n",
      "indeps.hub_transportMultiplier [0.]\n",
      "indeps.nacelle_transportMultiplier [0.]\n",
      "indeps.tower_transportMultiplier [0.]\n",
      "indeps.turbine_transportMultiplier [0.]\n",
      "blade_c.blade_cost [257699.782]\n",
      "hub_c.hub_cost [123413.55]\n",
      "pitch_c.pitch_system_cost [375788.4]\n",
      "spinner_c.spinner_cost [20096.55]\n",
      "hub_adder.hub_system_mass_tcc [50459.]\n",
      "hub_adder.hub_system_cost [519298.5]\n",
      "rotor_adder.rotor_cost [1292397.846]\n",
      "rotor_adder.rotor_mass_tcc [103411.01]\n",
      "lss_c.lss_cost [371961.87]\n",
      "bearing_c.main_bearing_cost [43791.345]\n",
      "gearbox_c.gearbox_cost [390065.04]\n",
      "hss_c.hss_cost [10148.66]\n",
      "generator_c.generator_cost [207078.14]\n",
      "bedplate_c.bedplate_cost [269962.74]\n",
      "yaw_c.yaw_system_cost [98589.392]\n",
      "hvac_c.hvac_cost [124000.]\n",
      "controls_c.controls_cost [105750.]\n",
      "vs_c.vs_cost [18800.]\n",
      "elec_c.elec_cost [209250.]\n",
      "cover_c.cover_cost [5700.]\n",
      "other_c.other_cost [-22200.]\n",
      "transformer_c.transformer_cost [18800.]\n",
      "nacelle_adder.nacelle_cost [1895488.532]\n",
      "nacelle_adder.nacelle_mass_tcc [197387.45]\n",
      "tower_c.tower_parts_cost [1260221.1]\n",
      "tower_adder.tower_cost [1260221.1]\n",
      "turbine_c.turbine_mass_tcc [735357.46]\n",
      "turbine_c.turbine_cost [4448107.478]\n",
      "turbine_c.turbine_cost_kW [889.6214956]\n"
     ]
    }
   ],
   "source": [
    "for io in turbine._outputs:\n",
    "    print(io, turbine._outputs[io])"
   ]
  },
  {
   "cell_type": "markdown",
   "metadata": {},
   "source": [
    "*Side note* \n",
    "\n",
    "`turbine._outputs` is not a dicitonary, but rather a `openmdao.vectors.default_vector.DefaultVector`. You can retrieve its values with square brackets. But if you want a real dicitonary, use `dict(turbine._outputs)`."
   ]
  },
  {
   "cell_type": "code",
   "execution_count": 7,
   "metadata": {},
   "outputs": [
    {
     "name": "stdout",
     "output_type": "stream",
     "text": [
      "sharedIndeps.machine_rating [5000.]\n",
      "sharedIndeps.blade_mass [17650.67]\n",
      "sharedIndeps.hub_mass [31644.5]\n",
      "sharedIndeps.pitch_system_mass [17004.]\n",
      "sharedIndeps.spinner_mass [1810.5]\n",
      "sharedIndeps.lss_mass [31257.3]\n",
      "sharedIndeps.bearings_mass [0.]\n",
      "sharedIndeps.gearbox_mass [30237.6]\n",
      "sharedIndeps.main_bearing_mass [4865.705]\n",
      "sharedIndeps.hss_mass [1492.45]\n",
      "sharedIndeps.generator_mass [16699.85]\n",
      "sharedIndeps.bedplate_mass [93090.6]\n",
      "sharedIndeps.yaw_mass [11878.24]\n",
      "sharedIndeps.vs_electronics_mass [1000.]\n",
      "sharedIndeps.hvac_mass [1000.]\n",
      "sharedIndeps.cover_mass [1000.]\n",
      "sharedIndeps.platforms_mass [1000.]\n",
      "sharedIndeps.transformer_mass [1000.]\n",
      "sharedIndeps.tower_mass [434559.]\n",
      "indeps.blade_mass_cost_coeff [14.6]\n",
      "indeps.hub_mass_cost_coeff [3.9]\n",
      "indeps.pitch_system_mass_cost_coeff [22.1]\n",
      "indeps.spinner_mass_cost_coeff [11.1]\n",
      "indeps.lss_mass_cost_coeff [11.9]\n",
      "indeps.bearings_mass_cost_coeff [4.5]\n",
      "indeps.gearbox_mass_cost_coeff [12.9]\n",
      "indeps.hss_mass_cost_coeff [6.8]\n",
      "indeps.generator_mass_cost_coeff [12.4]\n",
      "indeps.bedplate_mass_cost_coeff [2.9]\n",
      "indeps.yaw_mass_cost_coeff [8.3]\n",
      "indeps.vs_electronics_mass_cost_coeff [18.8]\n",
      "indeps.hvac_mass_cost_coeff [124.]\n",
      "indeps.cover_mass_cost_coeff [5.7]\n",
      "indeps.elec_connec_machine_rating_cost_coeff [41.85]\n",
      "indeps.platforms_mass_cost_coeff [17.1]\n",
      "indeps.base_hardware_cost_coeff [0.7]\n",
      "indeps.transformer_mass_cost_coeff [18.8]\n",
      "indeps.tower_mass_cost_coeff [2.9]\n",
      "indeps.controls_machine_rating_cost_coeff [21.15]\n",
      "indeps.crane_cost [12000.]\n",
      "indeps.hub_assemblyCostMultiplier [0.]\n",
      "indeps.hub_overheadCostMultiplier [0.]\n",
      "indeps.nacelle_assemblyCostMultiplier [0.]\n",
      "indeps.nacelle_overheadCostMultiplier [0.]\n",
      "indeps.tower_assemblyCostMultiplier [0.]\n",
      "indeps.tower_overheadCostMultiplier [0.]\n",
      "indeps.turbine_assemblyCostMultiplier [0.]\n",
      "indeps.turbine_overheadCostMultiplier [0.]\n",
      "indeps.hub_profitMultiplier [0.]\n",
      "indeps.nacelle_profitMultiplier [0.]\n",
      "indeps.tower_profitMultiplier [0.]\n",
      "indeps.turbine_profitMultiplier [0.]\n",
      "indeps.hub_transportMultiplier [0.]\n",
      "indeps.nacelle_transportMultiplier [0.]\n",
      "indeps.tower_transportMultiplier [0.]\n",
      "indeps.turbine_transportMultiplier [0.]\n",
      "blade_c.blade_cost [257699.782]\n",
      "hub_c.hub_cost [123413.55]\n",
      "pitch_c.pitch_system_cost [375788.4]\n",
      "spinner_c.spinner_cost [20096.55]\n",
      "hub_adder.hub_system_mass_tcc [50459.]\n",
      "hub_adder.hub_system_cost [519298.5]\n",
      "rotor_adder.rotor_cost [1292397.846]\n",
      "rotor_adder.rotor_mass_tcc [103411.01]\n",
      "lss_c.lss_cost [371961.87]\n",
      "bearing_c.main_bearing_cost [43791.345]\n",
      "gearbox_c.gearbox_cost [390065.04]\n",
      "hss_c.hss_cost [10148.66]\n",
      "generator_c.generator_cost [207078.14]\n",
      "bedplate_c.bedplate_cost [269962.74]\n",
      "yaw_c.yaw_system_cost [98589.392]\n",
      "hvac_c.hvac_cost [124000.]\n",
      "controls_c.controls_cost [105750.]\n",
      "vs_c.vs_cost [18800.]\n",
      "elec_c.elec_cost [209250.]\n",
      "cover_c.cover_cost [5700.]\n",
      "other_c.other_cost [-22200.]\n",
      "transformer_c.transformer_cost [18800.]\n",
      "nacelle_adder.nacelle_cost [1895488.532]\n",
      "nacelle_adder.nacelle_mass_tcc [197387.45]\n",
      "tower_c.tower_parts_cost [1260221.1]\n",
      "tower_adder.tower_cost [1260221.1]\n",
      "turbine_c.turbine_mass_tcc [735357.46]\n",
      "turbine_c.turbine_cost [4448107.478]\n",
      "turbine_c.turbine_cost_kW [889.6214956]\n"
     ]
    }
   ],
   "source": [
    "outputs_dict = dict(turbine._outputs)\n",
    "for key, value in outputs_dict.items():\n",
    "    print(key, value)"
   ]
  },
  {
   "cell_type": "code",
   "execution_count": null,
   "metadata": {},
   "outputs": [],
   "source": []
  }
 ],
 "metadata": {
  "kernelspec": {
   "display_name": "Python 3",
   "language": "python",
   "name": "python3"
  },
  "language_info": {
   "codemirror_mode": {
    "name": "ipython",
    "version": 3
   },
   "file_extension": ".py",
   "mimetype": "text/x-python",
   "name": "python",
   "nbconvert_exporter": "python",
   "pygments_lexer": "ipython3",
   "version": "3.7.3"
  }
 },
 "nbformat": 4,
 "nbformat_minor": 4
}
